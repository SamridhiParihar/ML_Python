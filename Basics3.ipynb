{
  "nbformat": 4,
  "nbformat_minor": 0,
  "metadata": {
    "colab": {
      "provenance": [],
      "authorship_tag": "ABX9TyPkgQMKIf9tyE6nwMQgN+ml",
      "include_colab_link": true
    },
    "kernelspec": {
      "name": "python3",
      "display_name": "Python 3"
    },
    "language_info": {
      "name": "python"
    }
  },
  "cells": [
    {
      "cell_type": "markdown",
      "metadata": {
        "id": "view-in-github",
        "colab_type": "text"
      },
      "source": [
        "<a href=\"https://colab.research.google.com/github/SamridhiParihar/ML_Python/blob/main/Basics3.ipynb\" target=\"_parent\"><img src=\"https://colab.research.google.com/assets/colab-badge.svg\" alt=\"Open In Colab\"/></a>"
      ]
    },
    {
      "cell_type": "markdown",
      "source": [
        "#CONTROL FLOW\n",
        "\n",
        "Decision-making statements in programming languages decide the direction of the flow of program execution.\n",
        "In Python, if-else elif statement is used for decision making."
      ],
      "metadata": {
        "id": "TNE7lHrZPs9l"
      }
    },
    {
      "cell_type": "markdown",
      "source": [
        "#IF ELSE:\n",
        "if (condition):\n",
        "    # Executes this block if\n",
        "    # condition is true\n",
        "else:\n",
        "    # Executes this block if\n",
        "    # condition is false\n",
        "\n",
        "\n",
        "#IF ELIF(ELSE IF):\n",
        "    if (condition):\n",
        "    statement\n",
        "elif (condition):\n",
        "\n",
        "    statement\n",
        ".\n",
        "\n",
        ".\n",
        "\n",
        ".\n",
        "\n",
        ".\n",
        "\n",
        "else:\n",
        "\n",
        "    statement"
      ],
      "metadata": {
        "id": "FMlyzroiPvwG"
      }
    },
    {
      "cell_type": "code",
      "source": [
        "i = 20\n",
        "if (i < 15):\n",
        "    print(\"i is smaller than 15\")\n",
        "    print(\"i'm in if Block\")\n",
        "else:\n",
        "    print(\"i is greater than 15\")\n",
        "    print(\"i'm in else Block\")\n",
        "print(\"i'm not in if and not in else Block\")"
      ],
      "metadata": {
        "colab": {
          "base_uri": "https://localhost:8080/"
        },
        "id": "armClqyyQAFU",
        "outputId": "5686586b-5ccb-4f79-e342-403e19bac40c"
      },
      "execution_count": null,
      "outputs": [
        {
          "output_type": "stream",
          "name": "stdout",
          "text": [
            "i is greater than 15\n",
            "i'm in else Block\n",
            "i'm not in if and not in else Block\n"
          ]
        }
      ]
    },
    {
      "cell_type": "markdown",
      "source": [
        "#LOOPS:\n",
        "\n",
        "1.   FOR\n",
        "2.   WHILE\n",
        "\n"
      ],
      "metadata": {
        "id": "trQ6h-OLSKdF"
      }
    },
    {
      "cell_type": "code",
      "source": [
        "# Iterating over dictionary\n",
        "print(\"Dictionary Iteration\")\n",
        "d = dict()\n",
        "d['xyz'] = 123\n",
        "d['abc'] = 345\n",
        "for i in d:\n",
        "    print(\"% s % d\" % (i, d[i]))#specifiers usage\n"
      ],
      "metadata": {
        "colab": {
          "base_uri": "https://localhost:8080/"
        },
        "id": "mDhOW_mpSpa3",
        "outputId": "46d4961e-6a8b-438f-b1ac-1644a33ed8ef"
      },
      "execution_count": null,
      "outputs": [
        {
          "output_type": "stream",
          "name": "stdout",
          "text": [
            "Dictionary Iteration\n",
            "xyz  123\n",
            "abc  345\n"
          ]
        }
      ]
    },
    {
      "cell_type": "markdown",
      "source": [
        "**range(start,stop,step) function in Python**\n",
        "\n",
        "Python range() is a built-in function that is used when a user needs to perform an action a specific number of times\n",
        "\n",
        "**start**: integer starting from which the sequence of integers is to be returned\n",
        "\n",
        "***stop***: integer before which the sequence of integers is to be returned.\n",
        "The range of integers end at stop – 1.\n",
        "\n",
        "**step**: integer value which determines the increment between each integer in the sequence\n"
      ],
      "metadata": {
        "id": "FGyApJMSTTMd"
      }
    },
    {
      "cell_type": "code",
      "source": [
        "# Python Program to\n",
        "# show range() basics\n",
        "\n",
        "# printing a number\n",
        "for i in range(10):\n",
        "    print(i, end=\" \")\n",
        "\n",
        "# performing sum of first 10 numbers\n",
        "sum = 0\n",
        "for i in range(1, 10):\n",
        "    sum = sum + i\n",
        "print(\"\\nSum of first 10 numbers :\", sum)\n"
      ],
      "metadata": {
        "colab": {
          "base_uri": "https://localhost:8080/"
        },
        "id": "OsmXvD3hT6Qq",
        "outputId": "d3f60b89-7bf6-4806-a1db-dcfa693ed91b"
      },
      "execution_count": null,
      "outputs": [
        {
          "output_type": "stream",
          "name": "stdout",
          "text": [
            "0 1 2 3 4 5 6 7 8 9 \n",
            "Sum of first 10 numbers : 45\n"
          ]
        }
      ]
    },
    {
      "cell_type": "markdown",
      "source": [
        "Python ***While Loop*** is used to execute a block of statements repeatedly until a given condition is satisfied\n",
        "\n",
        "**syntax**:\n",
        "\n",
        "while expression:\n",
        "    statement(s)"
      ],
      "metadata": {
        "id": "WnblWGqMUZSb"
      }
    },
    {
      "cell_type": "code",
      "source": [
        "# Python program to illustrate\n",
        "# while loop\n",
        "count = 0\n",
        "while (count < 3):\n",
        "    count = count + 1\n",
        "    print(\"Hello Geek\")"
      ],
      "metadata": {
        "colab": {
          "base_uri": "https://localhost:8080/"
        },
        "id": "ZVp9BJ5kUeMd",
        "outputId": "96fddcbd-52b6-4ac4-a0f6-831be341a3e7"
      },
      "execution_count": null,
      "outputs": [
        {
          "output_type": "stream",
          "name": "stdout",
          "text": [
            "Hello Geek\n",
            "Hello Geek\n",
            "Hello Geek\n"
          ]
        }
      ]
    },
    {
      "cell_type": "code",
      "source": [
        "\n",
        "# Prints all letters except 'e' and 's'\n",
        "i = 0\n",
        "a = 'geeksforgeeks'\n",
        "\n",
        "while (i < len(a)):\n",
        "    if (a[i] == 'e' or a[i] == 's'):\n",
        "        i += 1\n",
        "        continue\n",
        "\n",
        "    print('Current Letter :', a[i])\n",
        "    i += 1"
      ],
      "metadata": {
        "colab": {
          "base_uri": "https://localhost:8080/"
        },
        "id": "HgTRwpiLU-gh",
        "outputId": "356992ff-90cb-4fc6-aadc-4dffd57f31a6"
      },
      "execution_count": null,
      "outputs": [
        {
          "output_type": "stream",
          "name": "stdout",
          "text": [
            "Current Letter : g\n",
            "Current Letter : k\n",
            "Current Letter : f\n",
            "Current Letter : o\n",
            "Current Letter : r\n",
            "Current Letter : g\n",
            "Current Letter : k\n"
          ]
        }
      ]
    }
  ]
}