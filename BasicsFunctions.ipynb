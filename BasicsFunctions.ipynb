{
  "nbformat": 4,
  "nbformat_minor": 0,
  "metadata": {
    "colab": {
      "provenance": [],
      "authorship_tag": "ABX9TyPEaQeAGC2XIFhNeaFCCLPW",
      "include_colab_link": true
    },
    "kernelspec": {
      "name": "python3",
      "display_name": "Python 3"
    },
    "language_info": {
      "name": "python"
    }
  },
  "cells": [
    {
      "cell_type": "markdown",
      "metadata": {
        "id": "view-in-github",
        "colab_type": "text"
      },
      "source": [
        "<a href=\"https://colab.research.google.com/github/SamridhiParihar/ML_Python/blob/main/BasicsFunctions.ipynb\" target=\"_parent\"><img src=\"https://colab.research.google.com/assets/colab-badge.svg\" alt=\"Open In Colab\"/></a>"
      ]
    },
    {
      "cell_type": "markdown",
      "source": [
        "#functions\n",
        "\n",
        "syntax:(Basics)\n",
        "\n",
        "def fun_name(parameters):\n",
        "     #statements\n",
        "     return expressions"
      ],
      "metadata": {
        "id": "yXKMwM1XBRc8"
      }
    },
    {
      "cell_type": "code",
      "source": [
        "def say() :\n",
        "  print(\"hello\")\n",
        "  return\n",
        "\n",
        " #driver code\n",
        "say()\n",
        "\n"
      ],
      "metadata": {
        "colab": {
          "base_uri": "https://localhost:8080/"
        },
        "id": "bHBPHDyvBVL7",
        "outputId": "8d607c97-5d3c-4b8b-9da2-cde40e4bc7d8"
      },
      "execution_count": null,
      "outputs": [
        {
          "output_type": "stream",
          "name": "stdout",
          "text": [
            "hello\n"
          ]
        }
      ]
    },
    {
      "cell_type": "markdown",
      "source": [
        "**Syntax:**\n",
        "\n",
        "def function_name(parameter: data_type) -> return_type:\n",
        "    \"\"\"Doctring\"\"\"\n",
        "    # body of the function\n",
        "    return expression"
      ],
      "metadata": {
        "id": "6i0Bk1ffC6kZ"
      }
    },
    {
      "cell_type": "code",
      "source": [
        "def add(n1:int , n2:int) ->int:\n",
        "  sum=n1+n2\n",
        "  return sum\n",
        "#driver code\n",
        "x=add(2,3)\n",
        "print(x)"
      ],
      "metadata": {
        "colab": {
          "base_uri": "https://localhost:8080/"
        },
        "id": "68R9Y3YaCtIX",
        "outputId": "9c1df8b3-0648-4e35-a51e-d659318ce895"
      },
      "execution_count": null,
      "outputs": [
        {
          "output_type": "stream",
          "name": "stdout",
          "text": [
            "5\n"
          ]
        }
      ]
    },
    {
      "cell_type": "markdown",
      "source": [
        "Arguments type:"
      ],
      "metadata": {
        "id": "t0VAa2ZDEgv5"
      }
    },
    {
      "cell_type": "code",
      "source": [
        "#default argument program\n",
        "# Python program to demonstrate\n",
        "# default arguments\n",
        "\n",
        "\n",
        "def myFun(x, y=50):\n",
        "    print(\"x: \", x)\n",
        "    print(\"y: \", y)\n",
        "\n",
        "\n",
        "# Driver code (We call myFun() with only\n",
        "# argument)\n",
        "myFun(10)"
      ],
      "metadata": {
        "colab": {
          "base_uri": "https://localhost:8080/"
        },
        "id": "eCHA65N7Eqzb",
        "outputId": "9d5235e2-c220-40e4-fa7d-ab87c2111ed9"
      },
      "execution_count": null,
      "outputs": [
        {
          "output_type": "stream",
          "name": "stdout",
          "text": [
            "x:  10\n",
            "y:  50\n"
          ]
        }
      ]
    },
    {
      "cell_type": "code",
      "source": [
        "#keyword argument\n",
        "# Python program to demonstrate Keyword Arguments\n",
        "def student(firstname, lastname):\n",
        "    print(firstname, lastname)\n",
        "\n",
        "\n",
        "# Keyword arguments\n",
        "student(firstname='Geeks', lastname='Practice')\n",
        "student(lastname='Practice', firstname='Geeks')"
      ],
      "metadata": {
        "colab": {
          "base_uri": "https://localhost:8080/"
        },
        "id": "pPr_WP3EEz90",
        "outputId": "3888f9ab-c25a-4850-cc9e-47d80f148830"
      },
      "execution_count": null,
      "outputs": [
        {
          "output_type": "stream",
          "name": "stdout",
          "text": [
            "Geeks Practice\n",
            "Geeks Practice\n"
          ]
        }
      ]
    },
    {
      "cell_type": "code",
      "source": [
        "#variable arguments\n",
        "def my(*sam):\n",
        "  for i in sam:\n",
        "    print(i, end=\" \")\n",
        "  return\n",
        "my(1,2,3,4,5,6)"
      ],
      "metadata": {
        "colab": {
          "base_uri": "https://localhost:8080/"
        },
        "id": "zq-c4JsDFDfv",
        "outputId": "434c0f42-fc9a-48cc-fe51-646228e4d158"
      },
      "execution_count": null,
      "outputs": [
        {
          "output_type": "stream",
          "name": "stdout",
          "text": [
            "1 2 3 4 5 6 "
          ]
        }
      ]
    },
    {
      "cell_type": "code",
      "source": [
        "def ch(a,b):\n",
        "  t=a;\n",
        "  a=b;\n",
        "  b=t;\n",
        "  return\n",
        "\n",
        "a=10;b=20\n",
        "ch(a,b)\n",
        "print(a)\n",
        "print(b)\n"
      ],
      "metadata": {
        "colab": {
          "base_uri": "https://localhost:8080/"
        },
        "id": "9W77J8smF-b2",
        "outputId": "c9722554-2456-4f41-8d69-11ab55de1f4b"
      },
      "execution_count": null,
      "outputs": [
        {
          "output_type": "stream",
          "name": "stdout",
          "text": [
            "10\n",
            "20\n"
          ]
        }
      ]
    }
  ]
}