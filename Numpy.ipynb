{
  "nbformat": 4,
  "nbformat_minor": 0,
  "metadata": {
    "colab": {
      "provenance": [],
      "authorship_tag": "ABX9TyMVZtHF9iOQwH7nHzOI2XMB",
      "include_colab_link": true
    },
    "kernelspec": {
      "name": "python3",
      "display_name": "Python 3"
    },
    "language_info": {
      "name": "python"
    }
  },
  "cells": [
    {
      "cell_type": "markdown",
      "metadata": {
        "id": "view-in-github",
        "colab_type": "text"
      },
      "source": [
        "<a href=\"https://colab.research.google.com/github/SamridhiParihar/ML_Python/blob/main/Numpy.ipynb\" target=\"_parent\"><img src=\"https://colab.research.google.com/assets/colab-badge.svg\" alt=\"Open In Colab\"/></a>"
      ]
    },
    {
      "cell_type": "markdown",
      "source": [
        "#NUMPY\n",
        "\n",
        "\n",
        "1.   allow several mathematical operations\n",
        "2.   faster operations\n",
        "\n"
      ],
      "metadata": {
        "id": "0m5jjMNryvd5"
      }
    },
    {
      "cell_type": "code",
      "source": [
        "import numpy as np"
      ],
      "metadata": {
        "id": "VCDtH7wFzDoK"
      },
      "execution_count": null,
      "outputs": []
    },
    {
      "cell_type": "markdown",
      "source": [
        "#numpy arary"
      ],
      "metadata": {
        "id": "umjqubWM0TxV"
      }
    },
    {
      "cell_type": "code",
      "source": [
        "#list\n",
        "list1=[1,2,3,4]\n",
        "print(list1)\n",
        "type(list1)\n"
      ],
      "metadata": {
        "colab": {
          "base_uri": "https://localhost:8080/"
        },
        "id": "W7_OZ_2czHIF",
        "outputId": "4f3d8f6d-479f-46f0-c5f9-d77310606665"
      },
      "execution_count": null,
      "outputs": [
        {
          "output_type": "stream",
          "name": "stdout",
          "text": [
            "[1, 2, 3, 4]\n"
          ]
        },
        {
          "output_type": "execute_result",
          "data": {
            "text/plain": [
              "list"
            ]
          },
          "metadata": {},
          "execution_count": 6
        }
      ]
    },
    {
      "cell_type": "code",
      "source": [
        " np_array=np.array([1,2,3,4])\n",
        " print(np_array)\n",
        " type(np_array)"
      ],
      "metadata": {
        "colab": {
          "base_uri": "https://localhost:8080/"
        },
        "id": "D08LBNZN0weO",
        "outputId": "7038a996-2813-4331-d441-40a16a9794f0"
      },
      "execution_count": null,
      "outputs": [
        {
          "output_type": "stream",
          "name": "stdout",
          "text": [
            "[1 2 3 4]\n"
          ]
        },
        {
          "output_type": "execute_result",
          "data": {
            "text/plain": [
              "numpy.ndarray"
            ]
          },
          "metadata": {},
          "execution_count": 8
        }
      ]
    },
    {
      "cell_type": "code",
      "source": [
        "#creating 1D array:\n",
        "a=np.array([1,2,3,4,5])\n",
        "print(a)"
      ],
      "metadata": {
        "colab": {
          "base_uri": "https://localhost:8080/"
        },
        "id": "L98ZYDWQ1E6N",
        "outputId": "4e8c526b-bbe6-410b-e449-94ef9ead0f48"
      },
      "execution_count": null,
      "outputs": [
        {
          "output_type": "stream",
          "name": "stdout",
          "text": [
            "[1 2 3 4 5]\n"
          ]
        }
      ]
    },
    {
      "cell_type": "code",
      "source": [
        "#checking dimension as matrix\n",
        "a.shape"
      ],
      "metadata": {
        "colab": {
          "base_uri": "https://localhost:8080/"
        },
        "id": "DkZ_a0sJ1Rf5",
        "outputId": "944a1aa3-1aaf-409f-c831-ceeed76b7b38"
      },
      "execution_count": null,
      "outputs": [
        {
          "output_type": "execute_result",
          "data": {
            "text/plain": [
              "(5,)"
            ]
          },
          "metadata": {},
          "execution_count": 12
        }
      ]
    },
    {
      "cell_type": "code",
      "source": [
        "b=np.array([(1,2,3),(4,5,6)])\n",
        "print(b)\n",
        "b.shape"
      ],
      "metadata": {
        "colab": {
          "base_uri": "https://localhost:8080/"
        },
        "id": "PhSNA_3b1eon",
        "outputId": "edca99c9-11e8-4ed1-9e55-af544510137f"
      },
      "execution_count": null,
      "outputs": [
        {
          "output_type": "stream",
          "name": "stdout",
          "text": [
            "[[1 2 3]\n",
            " [4 5 6]]\n"
          ]
        },
        {
          "output_type": "execute_result",
          "data": {
            "text/plain": [
              "(2, 3)"
            ]
          },
          "metadata": {},
          "execution_count": 14
        }
      ]
    },
    {
      "cell_type": "code",
      "source": [
        "b=np.array([(1,2,3),(4,5,6)], dtype=float)\n",
        "print(b)\n",
        "b.shape\n",
        ""
      ],
      "metadata": {
        "colab": {
          "base_uri": "https://localhost:8080/"
        },
        "id": "UTAzNbaQ1zbL",
        "outputId": "8c65776c-32fc-4521-a1bd-be89bd32310c"
      },
      "execution_count": null,
      "outputs": [
        {
          "output_type": "stream",
          "name": "stdout",
          "text": [
            "[[1. 2. 3.]\n",
            " [4. 5. 6.]]\n"
          ]
        },
        {
          "output_type": "execute_result",
          "data": {
            "text/plain": [
              "(2, 3)"
            ]
          },
          "metadata": {},
          "execution_count": 17
        }
      ]
    },
    {
      "cell_type": "markdown",
      "source": [
        "#initial placeholders in numpy array"
      ],
      "metadata": {
        "id": "GDtepkdl2KrJ"
      }
    },
    {
      "cell_type": "code",
      "source": [
        "#create a numpy array of all zeros\n",
        "x=np.zeros((4,5))\n",
        "print(x)"
      ],
      "metadata": {
        "colab": {
          "base_uri": "https://localhost:8080/"
        },
        "id": "Rx4-MELz2Ov9",
        "outputId": "3a7d992f-2d00-45e5-89e9-07a887e1c0d6"
      },
      "execution_count": null,
      "outputs": [
        {
          "output_type": "stream",
          "name": "stdout",
          "text": [
            "[[0. 0. 0. 0. 0.]\n",
            " [0. 0. 0. 0. 0.]\n",
            " [0. 0. 0. 0. 0.]\n",
            " [0. 0. 0. 0. 0.]]\n"
          ]
        }
      ]
    },
    {
      "cell_type": "code",
      "source": [
        "#create a numpy array of all ones\n",
        "y=np.ones((4,5))\n",
        "print(y)"
      ],
      "metadata": {
        "colab": {
          "base_uri": "https://localhost:8080/"
        },
        "id": "Oaogs6TR2hbz",
        "outputId": "2299108c-d19d-4acd-c8b3-28b1a1ce8df7"
      },
      "execution_count": null,
      "outputs": [
        {
          "output_type": "stream",
          "name": "stdout",
          "text": [
            "[[1. 1. 1. 1. 1.]\n",
            " [1. 1. 1. 1. 1.]\n",
            " [1. 1. 1. 1. 1.]\n",
            " [1. 1. 1. 1. 1.]]\n"
          ]
        }
      ]
    },
    {
      "cell_type": "code",
      "source": [
        "#create a numpy array of particular value(let say 6 here)\n",
        "z=np.full((5,3),6)\n",
        "print(z)"
      ],
      "metadata": {
        "colab": {
          "base_uri": "https://localhost:8080/"
        },
        "id": "-PGMECCF2s5g",
        "outputId": "8ede5299-d6eb-48d3-f00a-38a1f9979b9f"
      },
      "execution_count": null,
      "outputs": [
        {
          "output_type": "stream",
          "name": "stdout",
          "text": [
            "[[6 6 6]\n",
            " [6 6 6]\n",
            " [6 6 6]\n",
            " [6 6 6]\n",
            " [6 6 6]]\n"
          ]
        }
      ]
    },
    {
      "cell_type": "code",
      "source": [
        "#create a identity matrix\n",
        "I=np.eye((4))\n",
        "print(I)"
      ],
      "metadata": {
        "colab": {
          "base_uri": "https://localhost:8080/"
        },
        "id": "nB5jSLD53Aty",
        "outputId": "504468e3-20eb-460b-b32f-a39c936b2f21"
      },
      "execution_count": null,
      "outputs": [
        {
          "output_type": "stream",
          "name": "stdout",
          "text": [
            "[[1. 0. 0. 0.]\n",
            " [0. 1. 0. 0.]\n",
            " [0. 0. 1. 0.]\n",
            " [0. 0. 0. 1.]]\n"
          ]
        }
      ]
    },
    {
      "cell_type": "code",
      "source": [
        "#create a numpy array with random value(values between 0 and 1)\n",
        "v=np.random.random((6,4))\n",
        "print(v)\n"
      ],
      "metadata": {
        "colab": {
          "base_uri": "https://localhost:8080/"
        },
        "id": "IfLk1VD33ejS",
        "outputId": "126ed293-9318-4227-ac78-d6960479ea3b"
      },
      "execution_count": null,
      "outputs": [
        {
          "output_type": "stream",
          "name": "stdout",
          "text": [
            "[[0.09099426 0.35160945 0.11415129 0.72250595]\n",
            " [0.21090034 0.18591906 0.15502219 0.43624934]\n",
            " [0.50008636 0.91715753 0.06160282 0.74070363]\n",
            " [0.99676084 0.12994472 0.30987498 0.93712735]\n",
            " [0.21220005 0.50909453 0.16844747 0.74219372]\n",
            " [0.67003611 0.42116588 0.92378063 0.56299134]]\n"
          ]
        }
      ]
    },
    {
      "cell_type": "code",
      "source": [
        "#create a numpy array with random value(integer)\n",
        "s=np.random.randint(10,100,(3,5))\n",
        "print(s)"
      ],
      "metadata": {
        "colab": {
          "base_uri": "https://localhost:8080/"
        },
        "id": "B9NIbUgr35ML",
        "outputId": "00ad1ae1-0475-4d1f-f79a-5a361a6c394d"
      },
      "execution_count": null,
      "outputs": [
        {
          "output_type": "stream",
          "name": "stdout",
          "text": [
            "[[17 44 94 37 91]\n",
            " [80 14 53 48 12]\n",
            " [36 11 61 70 63]]\n"
          ]
        }
      ]
    },
    {
      "cell_type": "code",
      "source": [
        "#create a numpy array with evenly spaced value(in range)\n",
        "# syntax: np.linespace(range,no of values)\n",
        "dd=np.linspace(0,30,6)\n",
        "print(dd)\n"
      ],
      "metadata": {
        "colab": {
          "base_uri": "https://localhost:8080/"
        },
        "id": "FERmOk7t4Q9a",
        "outputId": "79ceb216-615f-4438-96c8-42273a25adde"
      },
      "execution_count": null,
      "outputs": [
        {
          "output_type": "stream",
          "name": "stdout",
          "text": [
            "[ 0.  6. 12. 18. 24. 30.]\n"
          ]
        }
      ]
    },
    {
      "cell_type": "code",
      "source": [
        "#create a numpy array with evenly spaced value(with step)\n",
        "# syntax: np.linespace(range,steps)\n",
        "dd1=np.arange(0,30,4)\n",
        "print(dd1)"
      ],
      "metadata": {
        "colab": {
          "base_uri": "https://localhost:8080/"
        },
        "id": "HZpGrXQz5HY9",
        "outputId": "5a3bd4ae-b891-4c76-d153-22b791755d11"
      },
      "execution_count": null,
      "outputs": [
        {
          "output_type": "stream",
          "name": "stdout",
          "text": [
            "[ 0  4  8 12 16 20 24 28]\n"
          ]
        }
      ]
    },
    {
      "cell_type": "markdown",
      "source": [
        "#convert a list/tuple/.... to numpy array\n"
      ],
      "metadata": {
        "id": "5eWbnV0f5yMJ"
      }
    },
    {
      "cell_type": "markdown",
      "source": [],
      "metadata": {
        "id": "u65hKMPreUDt"
      }
    },
    {
      "cell_type": "code",
      "source": [
        "list2=[1,2,3,4,5]\n",
        "np_array1=np.asarray(list2)\n",
        "print(np_array1)\n",
        "type(np_array1)"
      ],
      "metadata": {
        "colab": {
          "base_uri": "https://localhost:8080/"
        },
        "id": "Ykr9U2ne51vS",
        "outputId": "335895c5-1b9e-4dff-b07e-58ff0c2bdb50"
      },
      "execution_count": null,
      "outputs": [
        {
          "output_type": "stream",
          "name": "stdout",
          "text": [
            "[1 2 3 4 5]\n"
          ]
        },
        {
          "output_type": "execute_result",
          "data": {
            "text/plain": [
              "numpy.ndarray"
            ]
          },
          "metadata": {},
          "execution_count": 50
        }
      ]
    },
    {
      "cell_type": "markdown",
      "source": [
        "ANALYSING A NUMPY ARRAY\n"
      ],
      "metadata": {
        "id": "t2gMGHb96fgo"
      }
    },
    {
      "cell_type": "code",
      "source": [
        "A=np.random.randint(10,300,(4,5))\n",
        "print(A)"
      ],
      "metadata": {
        "colab": {
          "base_uri": "https://localhost:8080/"
        },
        "id": "4lO2xCzh6mz3",
        "outputId": "3b136b9b-dfe4-48e8-fd43-fb313dc121ef"
      },
      "execution_count": null,
      "outputs": [
        {
          "output_type": "stream",
          "name": "stdout",
          "text": [
            "[[149  31  16 248  10]\n",
            " [192 188 196 268 292]\n",
            " [256  82 225 190 143]\n",
            " [ 84 260 163 225 251]]\n"
          ]
        }
      ]
    },
    {
      "cell_type": "code",
      "source": [
        "#dimesnsion\n",
        "A.shape\n"
      ],
      "metadata": {
        "colab": {
          "base_uri": "https://localhost:8080/"
        },
        "id": "RCZU-Wub7YCj",
        "outputId": "35516e63-3e27-4b48-cf15-f528311ad773"
      },
      "execution_count": null,
      "outputs": [
        {
          "output_type": "execute_result",
          "data": {
            "text/plain": [
              "(4, 5)"
            ]
          },
          "metadata": {},
          "execution_count": 60
        }
      ]
    },
    {
      "cell_type": "code",
      "source": [
        "#no of dimesnsion\n",
        "print(A.ndim)"
      ],
      "metadata": {
        "colab": {
          "base_uri": "https://localhost:8080/"
        },
        "id": "s9-Jj5QJ7dNR",
        "outputId": "396c1aeb-6695-4e31-e301-2a2c181c4bc1"
      },
      "execution_count": null,
      "outputs": [
        {
          "output_type": "stream",
          "name": "stdout",
          "text": [
            "2\n"
          ]
        }
      ]
    },
    {
      "cell_type": "code",
      "source": [
        "#no of elements in array\n",
        "print(A.size)"
      ],
      "metadata": {
        "colab": {
          "base_uri": "https://localhost:8080/"
        },
        "id": "Is_ceMKv7gKK",
        "outputId": "5b0fb956-d426-49c1-ef3c-7ecec8305d5f"
      },
      "execution_count": null,
      "outputs": [
        {
          "output_type": "stream",
          "name": "stdout",
          "text": [
            "20\n"
          ]
        }
      ]
    },
    {
      "cell_type": "code",
      "source": [
        "#checking the datatype\n",
        "print(A.dtype)"
      ],
      "metadata": {
        "colab": {
          "base_uri": "https://localhost:8080/"
        },
        "id": "-CvXoZba7pT5",
        "outputId": "aec580e5-1485-4f26-a90f-272e2a6f8ac9"
      },
      "execution_count": null,
      "outputs": [
        {
          "output_type": "stream",
          "name": "stdout",
          "text": [
            "int64\n"
          ]
        }
      ]
    },
    {
      "cell_type": "markdown",
      "source": [
        "Mathematical operations on numpy array"
      ],
      "metadata": {
        "id": "bY2YaHSc72Bg"
      }
    },
    {
      "cell_type": "code",
      "source": [
        "l1=[1,2,3,4]\n",
        "l2=[5,6,7,8]\n",
        "print(l1+l2)# '+' concatenate list values but not element wise addition"
      ],
      "metadata": {
        "colab": {
          "base_uri": "https://localhost:8080/"
        },
        "id": "bEhj3kcI767o",
        "outputId": "7b81b6d4-d155-49a4-b4ff-a3c6e43fc224"
      },
      "execution_count": null,
      "outputs": [
        {
          "output_type": "stream",
          "name": "stdout",
          "text": [
            "[1, 2, 3, 4, 5, 6, 7, 8]\n"
          ]
        }
      ]
    },
    {
      "cell_type": "code",
      "source": [
        "k11=np.random.randint(10,100,(4,5))\n",
        "k22=np.random.randint(10,100,(4,5))\n",
        "print(k11)"
      ],
      "metadata": {
        "colab": {
          "base_uri": "https://localhost:8080/"
        },
        "id": "zKTpWNB-8bZt",
        "outputId": "e27a7076-2192-49a9-ab5a-a2e15b158e37"
      },
      "execution_count": null,
      "outputs": [
        {
          "output_type": "stream",
          "name": "stdout",
          "text": [
            "[[81 79 75 62 17]\n",
            " [62 48 39 32 16]\n",
            " [80 87 57 87 34]\n",
            " [74 96 57 96 21]]\n"
          ]
        }
      ]
    },
    {
      "cell_type": "code",
      "source": [
        "print(k22)"
      ],
      "metadata": {
        "colab": {
          "base_uri": "https://localhost:8080/"
        },
        "id": "u-1qAKLb9ZqD",
        "outputId": "30e0ba74-b3e9-4faf-c953-6e5a601da45f"
      },
      "execution_count": null,
      "outputs": [
        {
          "output_type": "stream",
          "name": "stdout",
          "text": [
            "[[62 44 29 79 32]\n",
            " [67 12 85 66 87]\n",
            " [56 57 98 88 59]\n",
            " [87 68 73 82 10]]\n"
          ]
        }
      ]
    },
    {
      "cell_type": "code",
      "source": [
        "print(k11+k22)"
      ],
      "metadata": {
        "colab": {
          "base_uri": "https://localhost:8080/"
        },
        "id": "aPFTwD-B9hpD",
        "outputId": "4c979adf-0fbd-4137-c5d0-4dd0548bd7c5"
      },
      "execution_count": null,
      "outputs": [
        {
          "output_type": "stream",
          "name": "stdout",
          "text": [
            "[[143 123 104 141  49]\n",
            " [129  60 124  98 103]\n",
            " [136 144 155 175  93]\n",
            " [161 164 130 178  31]]\n"
          ]
        }
      ]
    },
    {
      "cell_type": "code",
      "source": [
        "#similarly\n",
        "print(k11-k22)\n",
        "print(k11*k22)\n",
        "print(k11/k22)\n"
      ],
      "metadata": {
        "colab": {
          "base_uri": "https://localhost:8080/"
        },
        "id": "xZOQrBZJ9mW6",
        "outputId": "964b9c23-dc0a-4172-da62-de701c7f4df0"
      },
      "execution_count": null,
      "outputs": [
        {
          "output_type": "stream",
          "name": "stdout",
          "text": [
            "[[ 19  35  46 -17 -15]\n",
            " [ -5  36 -46 -34 -71]\n",
            " [ 24  30 -41  -1 -25]\n",
            " [-13  28 -16  14  11]]\n",
            "[[5022 3476 2175 4898  544]\n",
            " [4154  576 3315 2112 1392]\n",
            " [4480 4959 5586 7656 2006]\n",
            " [6438 6528 4161 7872  210]]\n",
            "[[1.30645161 1.79545455 2.5862069  0.78481013 0.53125   ]\n",
            " [0.92537313 4.         0.45882353 0.48484848 0.18390805]\n",
            " [1.42857143 1.52631579 0.58163265 0.98863636 0.57627119]\n",
            " [0.85057471 1.41176471 0.78082192 1.17073171 2.1       ]]\n"
          ]
        }
      ]
    },
    {
      "cell_type": "code",
      "source": [
        "print(np.add(k11,k22))"
      ],
      "metadata": {
        "colab": {
          "base_uri": "https://localhost:8080/"
        },
        "id": "osyAN5cZ9t6_",
        "outputId": "0ff61cc0-3b5e-4b5f-d3a7-591ee4390534"
      },
      "execution_count": null,
      "outputs": [
        {
          "output_type": "stream",
          "name": "stdout",
          "text": [
            "[[143 123 104 141  49]\n",
            " [129  60 124  98 103]\n",
            " [136 144 155 175  93]\n",
            " [161 164 130 178  31]]\n"
          ]
        }
      ]
    },
    {
      "cell_type": "code",
      "source": [
        "print(np.subtract(k11,k22))\n",
        "print(np.multiply(k11,k22))\n",
        "print(np.divide(k11,k22))"
      ],
      "metadata": {
        "colab": {
          "base_uri": "https://localhost:8080/"
        },
        "id": "DWqzWiAq97XR",
        "outputId": "8bec245e-5228-443b-d245-2cc24ceb7941"
      },
      "execution_count": null,
      "outputs": [
        {
          "output_type": "stream",
          "name": "stdout",
          "text": [
            "[[ 19  35  46 -17 -15]\n",
            " [ -5  36 -46 -34 -71]\n",
            " [ 24  30 -41  -1 -25]\n",
            " [-13  28 -16  14  11]]\n",
            "[[5022 3476 2175 4898  544]\n",
            " [4154  576 3315 2112 1392]\n",
            " [4480 4959 5586 7656 2006]\n",
            " [6438 6528 4161 7872  210]]\n",
            "[[1.30645161 1.79545455 2.5862069  0.78481013 0.53125   ]\n",
            " [0.92537313 4.         0.45882353 0.48484848 0.18390805]\n",
            " [1.42857143 1.52631579 0.58163265 0.98863636 0.57627119]\n",
            " [0.85057471 1.41176471 0.78082192 1.17073171 2.1       ]]\n"
          ]
        }
      ]
    },
    {
      "cell_type": "markdown",
      "source": [
        "#arrays manipulation"
      ],
      "metadata": {
        "id": "1HZYG3xQ-TPZ"
      }
    },
    {
      "cell_type": "code",
      "source": [
        "j1=np.random.randint(10,100,(4,5))\n",
        "print(j1)\n",
        "j1.shape"
      ],
      "metadata": {
        "colab": {
          "base_uri": "https://localhost:8080/"
        },
        "id": "oYCYCjeS-XY9",
        "outputId": "7506fda0-8cd8-4719-9cc6-4f6eb3daf985"
      },
      "execution_count": null,
      "outputs": [
        {
          "output_type": "stream",
          "name": "stdout",
          "text": [
            "[[70 91 68 72 30]\n",
            " [94 33 11 45 65]\n",
            " [10 89 90 72 92]\n",
            " [64 84 66 92 45]]\n"
          ]
        },
        {
          "output_type": "execute_result",
          "data": {
            "text/plain": [
              "(4, 5)"
            ]
          },
          "metadata": {},
          "execution_count": 92
        }
      ]
    },
    {
      "cell_type": "code",
      "source": [
        "#transpose matrix\n",
        "j1_transpose=(np.transpose(j1))\n",
        "print(j1_transpose)\n",
        "j1_transpose.shape"
      ],
      "metadata": {
        "colab": {
          "base_uri": "https://localhost:8080/"
        },
        "id": "fdM0OQvG-jdE",
        "outputId": "dde2ed80-b372-4b24-c4ba-3a454061ecf9"
      },
      "execution_count": null,
      "outputs": [
        {
          "output_type": "stream",
          "name": "stdout",
          "text": [
            "[[70 94 10 64]\n",
            " [91 33 89 84]\n",
            " [68 11 90 66]\n",
            " [72 45 72 92]\n",
            " [30 65 92 45]]\n"
          ]
        },
        {
          "output_type": "execute_result",
          "data": {
            "text/plain": [
              "(5, 4)"
            ]
          },
          "metadata": {},
          "execution_count": 94
        }
      ]
    },
    {
      "cell_type": "code",
      "source": [
        "#transpose matrix(another matrix)\n",
        "j2_transpose=j1.T\n",
        "print(j2_transpose)\n",
        "j2_transpose.shape"
      ],
      "metadata": {
        "colab": {
          "base_uri": "https://localhost:8080/"
        },
        "id": "dcWBbqJg-5nY",
        "outputId": "cc8dc0ae-a254-4a32-f65b-091597804cf1"
      },
      "execution_count": null,
      "outputs": [
        {
          "output_type": "stream",
          "name": "stdout",
          "text": [
            "[[70 94 10 64]\n",
            " [91 33 89 84]\n",
            " [68 11 90 66]\n",
            " [72 45 72 92]\n",
            " [30 65 92 45]]\n"
          ]
        },
        {
          "output_type": "execute_result",
          "data": {
            "text/plain": [
              "(5, 4)"
            ]
          },
          "metadata": {},
          "execution_count": 97
        }
      ]
    },
    {
      "cell_type": "code",
      "source": [
        "u1=np.random.randint(10,100,(4,5))\n",
        "print(u1)\n",
        "u1.shape"
      ],
      "metadata": {
        "colab": {
          "base_uri": "https://localhost:8080/"
        },
        "id": "HfI7h6DH_Lcq",
        "outputId": "b254df2c-ad05-4fe6-c6c3-6f806e0fd924"
      },
      "execution_count": null,
      "outputs": [
        {
          "output_type": "stream",
          "name": "stdout",
          "text": [
            "[[60 10 84 95 38]\n",
            " [72 40 78 55 62]\n",
            " [25 83 34 58 68]\n",
            " [38 51 88 44 18]]\n"
          ]
        },
        {
          "output_type": "execute_result",
          "data": {
            "text/plain": [
              "(4, 5)"
            ]
          },
          "metadata": {},
          "execution_count": 99
        }
      ]
    },
    {
      "cell_type": "code",
      "source": [
        "#reshpae array\n",
        "b=u1.reshape(5,4)\n",
        "print(b)\n",
        "b.shape"
      ],
      "metadata": {
        "colab": {
          "base_uri": "https://localhost:8080/"
        },
        "id": "DBaa1a-C_VjZ",
        "outputId": "2712a0a1-c8d9-44d7-fc12-27298b45f2ba"
      },
      "execution_count": null,
      "outputs": [
        {
          "output_type": "stream",
          "name": "stdout",
          "text": [
            "[[60 10 84 95]\n",
            " [38 72 40 78]\n",
            " [55 62 25 83]\n",
            " [34 58 68 38]\n",
            " [51 88 44 18]]\n"
          ]
        },
        {
          "output_type": "execute_result",
          "data": {
            "text/plain": [
              "(5, 4)"
            ]
          },
          "metadata": {},
          "execution_count": 103
        }
      ]
    }
  ]
}